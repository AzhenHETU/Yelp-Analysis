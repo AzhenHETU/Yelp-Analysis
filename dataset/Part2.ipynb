{
 "cells": [
  {
   "cell_type": "code",
   "execution_count": 2,
   "id": "2ef66b56-d36f-4174-8801-672e8961e7b7",
   "metadata": {},
   "outputs": [],
   "source": [
    "#import json\n",
    "import numpy as np\n",
    "import pandas as pd\n",
    "dir_name = \"userAction_Recommendation/\"\n",
    "file_name1 = \"boston.csv\"\n",
    "boston_info = pd.read_csv(dir_name + file_name1)\n",
    "#print(boston_info.head())\n",
    "file_name2 = \"columbus.csv\"\n",
    "columbus_info = pd.read_csv(dir_name + file_name2)\n",
    "file_name3 = \"review_boston.csv\"\n",
    "review_bos = pd.read_csv(dir_name + file_name3)\n",
    "file_name4 = \"review_columbus.csv\"\n",
    "review_col = pd.read_csv(dir_name + file_name4)"
   ]
  },
  {
   "cell_type": "code",
   "execution_count": 16,
   "id": "9babd1f5-55b7-48d0-8c63-1d58db34145e",
   "metadata": {},
   "outputs": [
    {
     "name": "stdout",
     "output_type": "stream",
     "text": [
      "[ 0  1  0 ... 39  0  0]\n"
     ]
    }
   ],
   "source": [
    "from sklearn.cluster import DBSCAN\n",
    "X = np.array((boston_info.latitude,boston_info.longitude))\n",
    "X = X.transpose()\n",
    "#print(X.shape)\n",
    "clustering = DBSCAN(eps = 0.004, min_samples = 2).fit(X)\n",
    "print(clustering.labels_)"
   ]
  },
  {
   "cell_type": "code",
   "execution_count": 18,
   "id": "d6a4f339-6a8c-41a9-8491-9d605aff1367",
   "metadata": {},
   "outputs": [
    {
     "name": "stderr",
     "output_type": "stream",
     "text": [
      "No handles with labels found to put in legend.\n"
     ]
    },
    {
     "data": {
      "image/png": "[encoded data removed]",
      "text/plain": [
       "<Figure size 432x288 with 1 Axes>"
      ]
     },
     "metadata": {},
     "output_type": "display_data"
    }
   ],
   "source": [
    "import matplotlib.pyplot as plt \n",
    "import matplotlib.colors as colors\n",
    "import matplotlib.cm as cm\n",
    "plt.style.use('seaborn-whitegrid')\n",
    "x_points = X[:, 0]\n",
    "y_points = X[:, 1]\n",
    "labels = clustering.labels_\n",
    "colormap = cm.viridis\n",
    "color_labels = [colors.rgb2hex(colormap(i)) for i in np.linspace(0, 0.9, max(labels)+1)]\n",
    "color_list = [color_labels[j] for j in labels]\n",
    "#print(color_list)\n",
    "plt.scatter(x_points,y_points,c = color_list, s=5, alpha=0.3)\n",
    "plt.legend()\n",
    "plt.show()"
   ]
  },
  {
   "cell_type": "code",
   "execution_count": 9,
   "id": "976064be-32b7-43ea-865b-5dab81c72a69",
   "metadata": {},
   "outputs": [
    {
     "name": "stdout",
     "output_type": "stream",
     "text": [
      "26\n"
     ]
    }
   ],
   "source": [
    "labels = clustering.labels_\n",
    "print(max(labels))"
   ]
  },
  {
   "cell_type": "code",
   "execution_count": 37,
   "id": "a6062b7d-189f-4969-a458-6e43af5cda98",
   "metadata": {},
   "outputs": [
    {
     "name": "stdout",
     "output_type": "stream",
     "text": [
      "0         Q8c91v7luItVB0cMFF_mRA\n",
      "1         99RsBrARhhx60UnAC4yDoA\n",
      "2         ffJp-ZN80M4sSkDL8Ra18w\n",
      "3         SIP1Dfwy1M0HWzdgGg9H9g\n",
      "4         LfyHQWb_kFyxbdNFb8kQGA\n",
      "                   ...          \n",
      "755301    etmS0hnNomEm6ujkN4fEHg\n",
      "755302    UOnDVoe5moX_T1C-sNUKuw\n",
      "755303    59Gy8CdWmJQXFdmJ3ftC6Q\n",
      "755304    _ailSgaI-3ztQxRnZtcluw\n",
      "755305    9U30DANobkrn3Zlu6T9p6Q\n",
      "Name: user_id, Length: 755306, dtype: object\n",
      "              business_id                 date               review_id  stars  \\\n",
      "0  EXOsmAB1s71WePlQk0WZrA  2006-04-16 02:58:44  28gGfkLs3igtjVy61lh77Q    2.0   \n",
      "\n",
      "                  user_id  \n",
      "0  Q8c91v7luItVB0cMFF_mRA  \n",
      "              business_id                                         categories  \\\n",
      "0  hcRxdDg7DYryCxCoI8ySQA            Restaurants, Shopping, Shopping Centers   \n",
      "1  jGennaZUr2MsJyRhijNBfA  Sandwiches, Food, Restaurants, Breakfast & Bru...   \n",
      "2  iPD8BBvea6YldQZPHzVrSQ  Creperies, Restaurants, Food, Coffee & Tea, Br...   \n",
      "3  WuoNSCjFBH4OQTSNGc4l6w  Beauty & Spas, Hair Salons, Active Life, Day Spas   \n",
      "4  zHMsnpMPanzRx-A6AwGSdw  Day Spas, Tanning, Hair Stylists, Massage, Spr...   \n",
      "\n",
      "     city   latitude  longitude                              name  stars  \\\n",
      "0  Boston  42.338544 -71.106842                 Longwood Galleria    2.5   \n",
      "1  Boston  42.363442 -71.025781                   Legal Sea Foods    3.5   \n",
      "2  Boston  42.342673 -71.084239                   Espresso Minute    4.5   \n",
      "3  Boston  42.350004 -71.081931  Toscana European Day Spa & Salon    4.0   \n",
      "4  Boston  42.352135 -71.063102            Ecco Beauty Hair Salon    3.5   \n",
      "\n",
      "   labels  \n",
      "0       0  \n",
      "1       1  \n",
      "2       0  \n",
      "3       0  \n",
      "4       0  \n"
     ]
    }
   ],
   "source": [
    "print(review_bos.user_id)\n",
    "print(review_bos[0:1])\n",
    "boston_info['labels'] = labels\n",
    "print(boston_info.head())"
   ]
  },
  {
   "cell_type": "code",
   "execution_count": 76,
   "id": "e4849510-f909-45d7-a0b8-6d6af0127c71",
   "metadata": {},
   "outputs": [],
   "source": [
    "#每一个用户ID生成一个linkedlist，每个linkedlist就是一串商家的聚类名按照日期排列\n",
    "class Node:\n",
    "    def __init__(self, dataval = None, date = None):\n",
    "        self.dataval = dataval\n",
    "        self.date = date\n",
    "        #next指向下一个node\n",
    "        self.next = None\n",
    "class LinkedList:\n",
    "    def __init(self):\n",
    "        self.head = None\n",
    "    def add(self, NewNode):\n",
    "        if self.head is None:\n",
    "            self.head = NewNode\n",
    "            return\n",
    "        last_node = self.head\n",
    "        while(last_node.next):\n",
    "            last_node = last_node.next\n",
    "        last_node.next = NewNode\n",
    "    def insert(self, NewNode):\n",
    "        if self.head is None:\n",
    "            self.head = NewNode\n",
    "            return\n",
    "        pre_node = self.head\n",
    "        while(pre_node.next):\n",
    "            cur_node = pre_node.next\n",
    "            if cur_node.date > NewNode.date:\n",
    "                #insert node\n",
    "                NewNode.next = cur_node\n",
    "                pre_node.next = NewNode\n",
    "                return \n",
    "            pre_node = pre_node.next\n",
    "        pre_node.next = NewNode\n",
    "    def printlist(self):\n",
    "        printval = self.head\n",
    "        print('->')\n",
    "        while printval is not None:\n",
    "            print(printval.dataval, ' -> ')\n",
    "            printval = printval.next\n",
    "        print('None')\n",
    "    def get_list(self):\n",
    "        list = []\n",
    "        node = self.head\n",
    "        while node is not None:\n",
    "            list.append(node.dataval)\n",
    "            node = node.next\n",
    "        self.list = list\n",
    "    def get_freq(self):\n",
    "        self.get_list(self)\n",
    "        dict = {}\n",
    "        for value, count in enumerate(self.list):\n",
    "            dict[value] = count\n",
    "        self.dict = dict"
   ]
  },
  {
   "cell_type": "code",
   "execution_count": 77,
   "id": "dd900145-d144-4f3b-829e-366017d2fe2c",
   "metadata": {},
   "outputs": [
    {
     "name": "stdout",
     "output_type": "stream",
     "text": [
      "273116\n"
     ]
    }
   ],
   "source": [
    "users = {}\n",
    "for i in range(len(review_bos)):\n",
    "    review = review_bos.iloc[i]\n",
    "    #print(review['user_id'])\n",
    "    user_id = review['user_id']\n",
    "    #user_id = review.user_id.astype('str').astype('string')\n",
    "    #user_id = review['user_id'].astype(str)\n",
    "    #user_id = str(user_id)\n",
    "    #print(user_id)\n",
    "    if user_id not in users:\n",
    "        #user_id = review.user_id\n",
    "        node = Node(review.business_id, review.date)\n",
    "        users[user_id] = LinkedList()\n",
    "        users[user_id].head = node\n",
    "    else:\n",
    "        #user_id = review.user_id\n",
    "        node = Node(review.business_id, review.date)\n",
    "        users[user_id].insert(node)\n",
    "print(len(users))"
   ]
  },
  {
   "cell_type": "code",
   "execution_count": 83,
   "id": "75c22fef-ce97-473e-9018-33b05ea65c68",
   "metadata": {},
   "outputs": [],
   "source": [
    "j = 0\n",
    "#for i in users:\n",
    "    #if j < 10:\n",
    "        #users[i].printlist()\n",
    "    #j+=1\n",
    "        "
   ]
  },
  {
   "cell_type": "code",
   "execution_count": 89,
   "id": "305dfb72-14e1-4559-bfee-cbed3639a7f4",
   "metadata": {},
   "outputs": [
    {
     "name": "stdout",
     "output_type": "stream",
     "text": [
      "8263\n"
     ]
    }
   ],
   "source": [
    "Labels = np.array([boston_info.business_id, boston_info.labels])\n",
    "Labels = Labels.transpose()\n",
    "\n",
    "print(len(Labels)) "
   ]
  },
  {
   "cell_type": "code",
   "execution_count": null,
   "id": "1759515f-6ca3-4ae5-8288-3f95206ac96a",
   "metadata": {},
   "outputs": [],
   "source": []
  }
 ],
 "metadata": {
  "kernelspec": {
   "display_name": "Python 3",
   "language": "python",
   "name": "python3"
  },
  "language_info": {
   "codemirror_mode": {
    "name": "ipython",
    "version": 3
   },
   "file_extension": ".py",
   "mimetype": "text/x-python",
   "name": "python",
   "nbconvert_exporter": "python",
   "pygments_lexer": "ipython3",
   "version": "3.8.8"
  }
 },
 "nbformat": 4,
 "nbformat_minor": 5
}
