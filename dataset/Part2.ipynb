{
 "cells": [
  {
   "cell_type": "code",
   "execution_count": 37,
   "id": "2ef66b56-d36f-4174-8801-672e8961e7b7",
   "metadata": {},
   "outputs": [
    {
     "name": "stdout",
     "output_type": "stream",
     "text": [
      "755306\n",
      "727571\n"
     ]
    }
   ],
   "source": [
    "#import json\n",
    "import numpy as np\n",
    "import pandas as pd\n",
    "dir_name = \"userAction_Recommendation/\"\n",
    "file_name1 = \"boston.csv\"\n",
    "boston_info = pd.read_csv(dir_name + file_name1)\n",
    "#print(boston_info.head())\n",
    "file_name2 = \"columbus.csv\"\n",
    "columbus_info = pd.read_csv(dir_name + file_name2)\n",
    "file_name3 = \"review_boston.csv\"\n",
    "review_bos = pd.read_csv(dir_name + file_name3)\n",
    "file_name4 = \"review_columbus.csv\"\n",
    "review_col = pd.read_csv(dir_name + file_name4)\n",
    "#data cleaning\n",
    "print(len(review_bos))\n",
    "review_bos = review_bos.drop(review_bos[review_bos.user_id == '#NAME?'].index) \n",
    "review_bos = review_bos.drop(review_bos[review_bos.user_id == '#VALUE!'].index)\n",
    "review_bos = review_bos.drop(review_bos[review_bos.business_id == '#NAME?'].index)\n",
    "review_bos = review_bos.drop(review_bos[review_bos.business_id == '#VALUE!'].index)\n",
    "review_bos = review_bos.drop(review_bos[review_bos.review_id == '#NAME?'].index)\n",
    "review_bos = review_bos.drop(review_bos[review_bos.review_id == '#VALUE!'].index)\n",
    "print(len(review_bos))\n",
    "#review_bos = review_bos.dropna(subset = ['labels'])"
   ]
  },
  {
   "cell_type": "code",
   "execution_count": 38,
   "id": "9babd1f5-55b7-48d0-8c63-1d58db34145e",
   "metadata": {},
   "outputs": [
    {
     "name": "stdout",
     "output_type": "stream",
     "text": [
      "[ 0  1  0 ... 39  0  0]\n"
     ]
    }
   ],
   "source": [
    "from sklearn.cluster import DBSCAN\n",
    "X = np.array((boston_info.latitude,boston_info.longitude))\n",
    "X = X.transpose()\n",
    "#print(X.shape)\n",
    "clustering = DBSCAN(eps = 0.004, min_samples = 2).fit(X)\n",
    "print(clustering.labels_)"
   ]
  },
  {
   "cell_type": "code",
   "execution_count": 39,
   "id": "d6a4f339-6a8c-41a9-8491-9d605aff1367",
   "metadata": {},
   "outputs": [
    {
     "name": "stderr",
     "output_type": "stream",
     "text": [
      "No handles with labels found to put in legend.\n"
     ]
    },
    {
     "data": {
      "image/png": "[encoded data removed]",
      "text/plain": [
       "<Figure size 432x288 with 1 Axes>"
      ]
     },
     "metadata": {},
     "output_type": "display_data"
    }
   ],
   "source": [
    "import matplotlib.pyplot as plt \n",
    "import matplotlib.colors as colors\n",
    "import matplotlib.cm as cm\n",
    "plt.style.use('seaborn-whitegrid')\n",
    "x_points = X[:, 0]\n",
    "y_points = X[:, 1]\n",
    "labels = clustering.labels_\n",
    "colormap = cm.viridis\n",
    "color_labels = [colors.rgb2hex(colormap(i)) for i in np.linspace(0, 0.9, max(labels)+1)]\n",
    "color_list = [color_labels[j] for j in labels]\n",
    "#print(color_list)\n",
    "plt.scatter(x_points,y_points,c = color_list, s=5, alpha=0.3)\n",
    "plt.legend()\n",
    "plt.show()"
   ]
  },
  {
   "cell_type": "code",
   "execution_count": 40,
   "id": "976064be-32b7-43ea-865b-5dab81c72a69",
   "metadata": {},
   "outputs": [
    {
     "name": "stdout",
     "output_type": "stream",
     "text": [
      "45\n"
     ]
    }
   ],
   "source": [
    "labels = clustering.labels_\n",
    "print(max(labels))"
   ]
  },
  {
   "cell_type": "code",
   "execution_count": 41,
   "id": "a6062b7d-189f-4969-a458-6e43af5cda98",
   "metadata": {},
   "outputs": [
    {
     "name": "stdout",
     "output_type": "stream",
     "text": [
      "0        NaN\n",
      "1        NaN\n",
      "3        NaN\n",
      "4        NaN\n",
      "5        NaN\n",
      "          ..\n",
      "755300   NaN\n",
      "755302   NaN\n",
      "755303   NaN\n",
      "755304   NaN\n",
      "755305   NaN\n",
      "Name: labels, Length: 727571, dtype: float64\n",
      "8263\n",
      "              business_id                                         categories  \\\n",
      "0  hcRxdDg7DYryCxCoI8ySQA            Restaurants, Shopping, Shopping Centers   \n",
      "1  jGennaZUr2MsJyRhijNBfA  Sandwiches, Food, Restaurants, Breakfast & Bru...   \n",
      "2  iPD8BBvea6YldQZPHzVrSQ  Creperies, Restaurants, Food, Coffee & Tea, Br...   \n",
      "3  WuoNSCjFBH4OQTSNGc4l6w  Beauty & Spas, Hair Salons, Active Life, Day Spas   \n",
      "4  zHMsnpMPanzRx-A6AwGSdw  Day Spas, Tanning, Hair Stylists, Massage, Spr...   \n",
      "\n",
      "     city   latitude  longitude                              name  stars  \\\n",
      "0  Boston  42.338544 -71.106842                 Longwood Galleria    2.5   \n",
      "1  Boston  42.363442 -71.025781                   Legal Sea Foods    3.5   \n",
      "2  Boston  42.342673 -71.084239                   Espresso Minute    4.5   \n",
      "3  Boston  42.350004 -71.081931  Toscana European Day Spa & Salon    4.0   \n",
      "4  Boston  42.352135 -71.063102            Ecco Beauty Hair Salon    3.5   \n",
      "\n",
      "   labels  \n",
      "0       0  \n",
      "1       1  \n",
      "2       0  \n",
      "3       0  \n",
      "4       0  \n",
      "8263\n"
     ]
    }
   ],
   "source": [
    "print(review_bos.labels)\n",
    "#print(review_bos[0:1])\n",
    "boston_info['labels'] = labels\n",
    "print(len(boston_info))\n",
    "print(boston_info.head())\n",
    "boston_info = boston_info.dropna(subset = ['labels'])\n",
    "print(len(boston_info))"
   ]
  },
  {
   "cell_type": "code",
   "execution_count": 46,
   "id": "e4849510-f909-45d7-a0b8-6d6af0127c71",
   "metadata": {},
   "outputs": [],
   "source": [
    "#每一个用户ID生成一个linkedlist，每个linkedlist就是一串商家的聚类名按照日期排列\n",
    "class Node:\n",
    "    def __init__(self, dataval = None, date = None):\n",
    "        self.dataval = dataval\n",
    "        self.date = date\n",
    "        #next指向下一个node\n",
    "        self.next = None\n",
    "class LinkedList:\n",
    "    def __init(self):\n",
    "        self.head = None\n",
    "    def add(self, NewNode):\n",
    "        if self.head is None:\n",
    "            self.head = NewNode\n",
    "            return\n",
    "        last_node = self.head\n",
    "        while(last_node.next):\n",
    "            last_node = last_node.next\n",
    "        last_node.next = NewNode\n",
    "    def insert(self, NewNode):\n",
    "        if self.head is None:\n",
    "            self.head = NewNode\n",
    "            return\n",
    "        pre_node = self.head\n",
    "        while(pre_node.next):\n",
    "            cur_node = pre_node.next\n",
    "            if cur_node.date > NewNode.date:\n",
    "                #insert node\n",
    "                NewNode.next = cur_node\n",
    "                pre_node.next = NewNode\n",
    "                return \n",
    "            pre_node = pre_node.next\n",
    "        pre_node.next = NewNode\n",
    "    def printlist(self):\n",
    "        printval = self.head\n",
    "        print('->',end = \"\")\n",
    "        while printval is not None:\n",
    "            print(printval.dataval, ' -> ',end = \"\")\n",
    "            printval = printval.next\n",
    "        print('None')\n",
    "    def get_list(self):\n",
    "        list = []\n",
    "        node = self.head\n",
    "        while node is not None:\n",
    "            list.append(node.dataval)\n",
    "            node = node.next\n",
    "        self.list = list\n",
    "    def get_freq(self):\n",
    "        self.get_list(self)\n",
    "        dict = {}\n",
    "        for value, count in enumerate(self.list):\n",
    "            dict[value] = count\n",
    "        self.dict = dict"
   ]
  },
  {
   "cell_type": "code",
   "execution_count": 47,
   "id": "dd900145-d144-4f3b-829e-366017d2fe2c",
   "metadata": {},
   "outputs": [
    {
     "name": "stdout",
     "output_type": "stream",
     "text": [
      "3\n",
      "265642\n"
     ]
    }
   ],
   "source": [
    "import math\n",
    "users = {}\n",
    "Labels = np.array([boston_info.business_id, boston_info.labels])\n",
    "Labels = Labels.transpose()\n",
    "user_label = []\n",
    "dict_label = dict(zip(Labels[:,0],Labels[:,1]))\n",
    "#insert label column in review_bos\n",
    "count = 0\n",
    "for i in range(len(review_bos)):\n",
    "    review = review_bos.iloc[i]\n",
    "    #print(review.business_id)\n",
    "    if(review.business_id == \"nan\"):\n",
    "        user_label.append(0)\n",
    "        count += 1\n",
    "    elif(review.business_id not in dict_label.keys()):\n",
    "        user_label.append(0)\n",
    "        count += 1\n",
    "    else:\n",
    "        #print(dict_label[review.business_id])\n",
    "        user_label.append(dict_label[review.business_id])\n",
    "print(count)\n",
    "review_bos.labels = user_label\n",
    "#create linkedlist\n",
    "for i in range(len(review_bos)):\n",
    "    review = review_bos.iloc[i]\n",
    "    #print(review['user_id'])\n",
    "    user_id = review['user_id']\n",
    "    #user_id = review.user_id.astype('str').astype('string')\n",
    "    #user_id = review['user_id'].astype(str)\n",
    "    #user_id = str(user_id)\n",
    "    #print(user_id)\n",
    "    if user_id not in users:\n",
    "        #user_id = review.user_id\n",
    "        node = Node(review.labels, review.date)\n",
    "        users[user_id] = LinkedList()\n",
    "        users[user_id].head = node\n",
    "    else:\n",
    "        #user_id = review.user_id\n",
    "        node = Node(review.labels, review.date)\n",
    "        users[user_id].insert(node)\n",
    "print(len(users))"
   ]
  },
  {
   "cell_type": "code",
   "execution_count": 49,
   "id": "75c22fef-ce97-473e-9018-33b05ea65c68",
   "metadata": {},
   "outputs": [
    {
     "name": "stdout",
     "output_type": "stream",
     "text": [
      "->0  -> 0  -> 0  -> 0  -> 0  -> 0  -> 0  -> 0  -> 0  -> 0  -> 0  -> 0  -> 0  -> None\n",
      "->0  -> None\n",
      "->0  -> 0  -> 0  -> 0  -> 0  -> 0  -> 0  -> 0  -> 0  -> 0  -> 0  -> 0  -> 0  -> 0  -> 0  -> 0  -> 0  -> 0  -> 1  -> 0  -> 0  -> 0  -> 0  -> 0  -> 0  -> 0  -> 0  -> 0  -> 0  -> 0  -> 0  -> 0  -> 0  -> 0  -> 0  -> 0  -> -1  -> 0  -> 0  -> 0  -> 0  -> 0  -> 0  -> 0  -> 0  -> 0  -> 0  -> 0  -> 0  -> 0  -> 0  -> 0  -> 0  -> 0  -> 0  -> 0  -> 0  -> 0  -> 0  -> 0  -> 0  -> 0  -> 0  -> 0  -> 0  -> 0  -> 0  -> 0  -> 0  -> 0  -> 0  -> 0  -> 0  -> 0  -> 0  -> 0  -> 0  -> None\n",
      "->0  -> 0  -> 0  -> 0  -> 0  -> 0  -> 0  -> 0  -> 0  -> 0  -> 0  -> 0  -> 0  -> 0  -> 0  -> 0  -> 0  -> 0  -> 0  -> 0  -> 0  -> 0  -> 0  -> 0  -> 0  -> 0  -> 0  -> 0  -> 0  -> 0  -> 0  -> 0  -> 0  -> 0  -> 0  -> 0  -> 0  -> 0  -> 0  -> 0  -> 0  -> 0  -> 0  -> 0  -> 0  -> 0  -> 0  -> 0  -> 0  -> 0  -> 1  -> 0  -> 0  -> 0  -> 0  -> 0  -> 0  -> 0  -> None\n",
      "->0  -> 0  -> 0  -> 0  -> 0  -> 0  -> 0  -> None\n",
      "->9  -> 0  -> 0  -> 0  -> 0  -> 0  -> 0  -> 0  -> 0  -> 0  -> 0  -> 0  -> 0  -> 0  -> 0  -> 0  -> 0  -> 0  -> 0  -> 0  -> None\n",
      "->0  -> 0  -> 0  -> 0  -> 0  -> 0  -> 0  -> 0  -> 0  -> 0  -> 0  -> 0  -> 0  -> 0  -> 0  -> 0  -> 0  -> 0  -> 0  -> 0  -> 0  -> 0  -> 0  -> 0  -> 0  -> 0  -> 0  -> 0  -> 0  -> 0  -> 0  -> 0  -> 0  -> 0  -> 0  -> 0  -> 0  -> 0  -> 0  -> 0  -> 0  -> 0  -> 0  -> 0  -> 0  -> 0  -> 0  -> None\n",
      "->0  -> None\n",
      "->0  -> 0  -> 0  -> 0  -> 0  -> 0  -> 0  -> 0  -> 0  -> 1  -> None\n",
      "->0  -> 0  -> 0  -> 0  -> 0  -> 0  -> 0  -> 0  -> 0  -> 0  -> 0  -> 0  -> 0  -> 0  -> 0  -> 0  -> 0  -> 0  -> 0  -> 0  -> 0  -> 0  -> 0  -> 0  -> 0  -> 0  -> 0  -> 0  -> 0  -> 0  -> 0  -> 0  -> 0  -> 0  -> 0  -> 0  -> 0  -> 0  -> 0  -> 0  -> 0  -> 0  -> 0  -> 0  -> 0  -> 0  -> 0  -> 0  -> 0  -> 0  -> None\n"
     ]
    }
   ],
   "source": [
    "#print前10个user的linked list\n",
    "j = 0\n",
    "for i in users:\n",
    "    if j < 10:\n",
    "        users[i].printlist()\n",
    "    j+=1\n",
    "        "
   ]
  },
  {
   "cell_type": "code",
   "execution_count": 54,
   "id": "305dfb72-14e1-4559-bfee-cbed3639a7f4",
   "metadata": {},
   "outputs": [
    {
     "ename": "KeyboardInterrupt",
     "evalue": "",
     "output_type": "error",
     "traceback": [
      "\u001b[1;31m---------------------------------------------------------------------------\u001b[0m",
      "\u001b[1;31mKeyboardInterrupt\u001b[0m                         Traceback (most recent call last)",
      "\u001b[1;32m<ipython-input-54-9ffae160648b>\u001b[0m in \u001b[0;36m<module>\u001b[1;34m\u001b[0m\n\u001b[0;32m     17\u001b[0m                 \u001b[0medge\u001b[0m \u001b[1;33m=\u001b[0m \u001b[1;33m[\u001b[0m\u001b[1;33m(\u001b[0m\u001b[0mcur_node\u001b[0m\u001b[1;33m.\u001b[0m\u001b[0mdataval\u001b[0m\u001b[1;33m,\u001b[0m \u001b[0mcur_node\u001b[0m\u001b[1;33m.\u001b[0m\u001b[0mnext\u001b[0m\u001b[1;33m.\u001b[0m\u001b[0mdataval\u001b[0m\u001b[1;33m)\u001b[0m\u001b[1;33m]\u001b[0m\u001b[1;33m\u001b[0m\u001b[1;33m\u001b[0m\u001b[0m\n\u001b[0;32m     18\u001b[0m                 \u001b[1;32mif\u001b[0m \u001b[0medge\u001b[0m \u001b[1;32min\u001b[0m \u001b[0madd_list\u001b[0m\u001b[1;33m:\u001b[0m\u001b[1;33m\u001b[0m\u001b[1;33m\u001b[0m\u001b[0m\n\u001b[1;32m---> 19\u001b[1;33m                     \u001b[0mp\u001b[0m \u001b[1;33m=\u001b[0m \u001b[0madd_list\u001b[0m\u001b[1;33m.\u001b[0m\u001b[0mindex\u001b[0m\u001b[1;33m(\u001b[0m\u001b[0medge\u001b[0m\u001b[1;33m)\u001b[0m\u001b[1;33m\u001b[0m\u001b[1;33m\u001b[0m\u001b[0m\n\u001b[0m\u001b[0;32m     20\u001b[0m                     \u001b[0mweights\u001b[0m\u001b[1;33m[\u001b[0m\u001b[0mp\u001b[0m\u001b[1;33m]\u001b[0m \u001b[1;33m+=\u001b[0m \u001b[1;36m1\u001b[0m\u001b[1;33m\u001b[0m\u001b[1;33m\u001b[0m\u001b[0m\n\u001b[0;32m     21\u001b[0m                 \u001b[1;32melse\u001b[0m\u001b[1;33m:\u001b[0m\u001b[1;33m\u001b[0m\u001b[1;33m\u001b[0m\u001b[0m\n",
      "\u001b[1;31mKeyboardInterrupt\u001b[0m: "
     ]
    }
   ],
   "source": [
    "#make networkx\n",
    "import networkx as nx\n",
    "import pylab\n",
    "count = 0\n",
    "for i in users:\n",
    "    if count < 10:\n",
    "        G = nx.DiGraph()\n",
    "        cur_node = users[i].head\n",
    "        if cur_node.next is None:\n",
    "            G.add_node(cur_node.dataval)\n",
    "        else:\n",
    "            add_list = []\n",
    "            weights = []\n",
    "            dict_node = {}\n",
    "            dict_node[cur_node.dataval] = 1\n",
    "            while cur_node.next is not None:\n",
    "                edge = [(cur_node.dataval, cur_node.next.dataval)]\n",
    "                if edge in add_list:\n",
    "                    p = add_list.index(edge)\n",
    "                    weights[p] += 1\n",
    "                else:\n",
    "                    add_list.append(edge)\n",
    "                    weights.append(1)\n",
    "            for i in range(len(weights)):\n",
    "                G.add_edges_from(add_list[1][:], weight = weights[i])\n",
    "        pos = nx.spring_layout(G)\n",
    "        nx.draw(G, pos)\n",
    "        pylab.show()\n",
    "        count += 1\n",
    "    else:\n",
    "        break"
   ]
  },
  {
   "cell_type": "code",
   "execution_count": 60,
   "id": "1759515f-6ca3-4ae5-8288-3f95206ac96a",
   "metadata": {},
   "outputs": [
    {
     "name": "stdout",
     "output_type": "stream",
     "text": [
      "->0  -> None\n"
     ]
    },
    {
     "ename": "NetworkXError",
     "evalue": "random_state_index is incorrect",
     "output_type": "error",
     "traceback": [
      "\u001b[1;31m---------------------------------------------------------------------------\u001b[0m",
      "\u001b[1;31mIndexError\u001b[0m                                Traceback (most recent call last)",
      "\u001b[1;32mE:\\Anaconda\\lib\\site-packages\\networkx\\utils\\decorators.py\u001b[0m in \u001b[0;36m_random_state\u001b[1;34m(func, *args, **kwargs)\u001b[0m\n\u001b[0;32m    395\u001b[0m         \u001b[1;32mtry\u001b[0m\u001b[1;33m:\u001b[0m\u001b[1;33m\u001b[0m\u001b[1;33m\u001b[0m\u001b[0m\n\u001b[1;32m--> 396\u001b[1;33m             \u001b[0mrandom_state_arg\u001b[0m \u001b[1;33m=\u001b[0m \u001b[0margs\u001b[0m\u001b[1;33m[\u001b[0m\u001b[0mrandom_state_index\u001b[0m\u001b[1;33m]\u001b[0m\u001b[1;33m\u001b[0m\u001b[1;33m\u001b[0m\u001b[0m\n\u001b[0m\u001b[0;32m    397\u001b[0m         \u001b[1;32mexcept\u001b[0m \u001b[0mTypeError\u001b[0m \u001b[1;32mas\u001b[0m \u001b[0me\u001b[0m\u001b[1;33m:\u001b[0m\u001b[1;33m\u001b[0m\u001b[1;33m\u001b[0m\u001b[0m\n",
      "\u001b[1;31mIndexError\u001b[0m: tuple index out of range",
      "\nThe above exception was the direct cause of the following exception:\n",
      "\u001b[1;31mNetworkXError\u001b[0m                             Traceback (most recent call last)",
      "\u001b[1;32m<ipython-input-60-76158c452d94>\u001b[0m in \u001b[0;36m<module>\u001b[1;34m\u001b[0m\n\u001b[0;32m     22\u001b[0m     \u001b[1;32mfor\u001b[0m \u001b[0mi\u001b[0m \u001b[1;32min\u001b[0m \u001b[0mrange\u001b[0m\u001b[1;33m(\u001b[0m\u001b[0mlen\u001b[0m\u001b[1;33m(\u001b[0m\u001b[0mweights\u001b[0m\u001b[1;33m)\u001b[0m\u001b[1;33m)\u001b[0m\u001b[1;33m:\u001b[0m\u001b[1;33m\u001b[0m\u001b[1;33m\u001b[0m\u001b[0m\n\u001b[0;32m     23\u001b[0m         \u001b[0mG\u001b[0m\u001b[1;33m.\u001b[0m\u001b[0madd_edges_from\u001b[0m\u001b[1;33m(\u001b[0m\u001b[0madd_list\u001b[0m\u001b[1;33m[\u001b[0m\u001b[1;36m1\u001b[0m\u001b[1;33m]\u001b[0m\u001b[1;33m[\u001b[0m\u001b[1;33m:\u001b[0m\u001b[1;33m]\u001b[0m\u001b[1;33m,\u001b[0m \u001b[0mweight\u001b[0m \u001b[1;33m=\u001b[0m \u001b[0mweights\u001b[0m\u001b[1;33m[\u001b[0m\u001b[0mi\u001b[0m\u001b[1;33m]\u001b[0m\u001b[1;33m)\u001b[0m\u001b[1;33m\u001b[0m\u001b[1;33m\u001b[0m\u001b[0m\n\u001b[1;32m---> 24\u001b[1;33m \u001b[0mpos\u001b[0m \u001b[1;33m=\u001b[0m \u001b[0mnx\u001b[0m\u001b[1;33m.\u001b[0m\u001b[0mspring_layout\u001b[0m\u001b[1;33m(\u001b[0m\u001b[0mG\u001b[0m\u001b[1;33m)\u001b[0m\u001b[1;33m\u001b[0m\u001b[1;33m\u001b[0m\u001b[0m\n\u001b[0m\u001b[0;32m     25\u001b[0m \u001b[0mnx\u001b[0m\u001b[1;33m.\u001b[0m\u001b[0mdraw\u001b[0m\u001b[1;33m(\u001b[0m\u001b[0mG\u001b[0m\u001b[1;33m,\u001b[0m \u001b[0mpos\u001b[0m\u001b[1;33m)\u001b[0m\u001b[1;33m\u001b[0m\u001b[1;33m\u001b[0m\u001b[0m\n\u001b[0;32m     26\u001b[0m \u001b[0mpylab\u001b[0m\u001b[1;33m.\u001b[0m\u001b[0mshow\u001b[0m\u001b[1;33m(\u001b[0m\u001b[1;33m)\u001b[0m\u001b[1;33m\u001b[0m\u001b[1;33m\u001b[0m\u001b[0m\n",
      "\u001b[1;32mE:\\Anaconda\\lib\\site-packages\\decorator.py\u001b[0m in \u001b[0;36mfun\u001b[1;34m(*args, **kw)\u001b[0m\n\u001b[0;32m    229\u001b[0m         \u001b[0mfunc\u001b[0m\u001b[1;33m,\u001b[0m \u001b[1;34m\"return _call_(_func_, %s%%(shortsignature)s)\"\u001b[0m \u001b[1;33m%\u001b[0m \u001b[0mes\u001b[0m\u001b[1;33m,\u001b[0m\u001b[1;33m\u001b[0m\u001b[1;33m\u001b[0m\u001b[0m\n\u001b[0;32m    230\u001b[0m         evaldict, __wrapped__=func)\n\u001b[1;32m--> 231\u001b[1;33m     \u001b[1;32mif\u001b[0m \u001b[0mhasattr\u001b[0m\u001b[1;33m(\u001b[0m\u001b[0mfunc\u001b[0m\u001b[1;33m,\u001b[0m \u001b[1;34m'__qualname__'\u001b[0m\u001b[1;33m)\u001b[0m\u001b[1;33m:\u001b[0m\u001b[1;33m\u001b[0m\u001b[1;33m\u001b[0m\u001b[0m\n\u001b[0m\u001b[0;32m    232\u001b[0m         \u001b[0mfun\u001b[0m\u001b[1;33m.\u001b[0m\u001b[0m__qualname__\u001b[0m \u001b[1;33m=\u001b[0m \u001b[0mfunc\u001b[0m\u001b[1;33m.\u001b[0m\u001b[0m__qualname__\u001b[0m\u001b[1;33m\u001b[0m\u001b[1;33m\u001b[0m\u001b[0m\n\u001b[0;32m    233\u001b[0m     \u001b[1;32mreturn\u001b[0m \u001b[0mfun\u001b[0m\u001b[1;33m\u001b[0m\u001b[1;33m\u001b[0m\u001b[0m\n",
      "\u001b[1;32mE:\\Anaconda\\lib\\site-packages\\networkx\\utils\\decorators.py\u001b[0m in \u001b[0;36m_random_state\u001b[1;34m(func, *args, **kwargs)\u001b[0m\n\u001b[0;32m    398\u001b[0m             \u001b[1;32mraise\u001b[0m \u001b[0mnx\u001b[0m\u001b[1;33m.\u001b[0m\u001b[0mNetworkXError\u001b[0m\u001b[1;33m(\u001b[0m\u001b[1;34m\"random_state_index must be an integer\"\u001b[0m\u001b[1;33m)\u001b[0m \u001b[1;32mfrom\u001b[0m \u001b[0me\u001b[0m\u001b[1;33m\u001b[0m\u001b[1;33m\u001b[0m\u001b[0m\n\u001b[0;32m    399\u001b[0m         \u001b[1;32mexcept\u001b[0m \u001b[0mIndexError\u001b[0m \u001b[1;32mas\u001b[0m \u001b[0me\u001b[0m\u001b[1;33m:\u001b[0m\u001b[1;33m\u001b[0m\u001b[1;33m\u001b[0m\u001b[0m\n\u001b[1;32m--> 400\u001b[1;33m             \u001b[1;32mraise\u001b[0m \u001b[0mnx\u001b[0m\u001b[1;33m.\u001b[0m\u001b[0mNetworkXError\u001b[0m\u001b[1;33m(\u001b[0m\u001b[1;34m\"random_state_index is incorrect\"\u001b[0m\u001b[1;33m)\u001b[0m \u001b[1;32mfrom\u001b[0m \u001b[0me\u001b[0m\u001b[1;33m\u001b[0m\u001b[1;33m\u001b[0m\u001b[0m\n\u001b[0m\u001b[0;32m    401\u001b[0m \u001b[1;33m\u001b[0m\u001b[0m\n\u001b[0;32m    402\u001b[0m         \u001b[1;31m# Create a numpy.random.RandomState instance\u001b[0m\u001b[1;33m\u001b[0m\u001b[1;33m\u001b[0m\u001b[1;33m\u001b[0m\u001b[0m\n",
      "\u001b[1;31mNetworkXError\u001b[0m: random_state_index is incorrect"
     ]
    }
   ],
   "source": [
    "#test\n",
    "G = nx.DiGraph()\n",
    "i = \"99RsBrARhhx60UnAC4yDoA\"\n",
    "cur_node = users[i].head\n",
    "users[i].printlist()\n",
    "if cur_node.next is None:\n",
    "    G.add_node(cur_node.dataval)\n",
    "else:\n",
    "    add_list = []\n",
    "    weights = []\n",
    "    dict_node = {}\n",
    "    dict_node[cur_node.dataval] = 1\n",
    "    while cur_node.next is not None:\n",
    "        edge = [(cur_node.dataval, cur_node.next.dataval)]\n",
    "        if edge in add_list:\n",
    "            p = add_list.index(edge)\n",
    "            weights[p] += 1\n",
    "        else:\n",
    "            add_list.append(edge)\n",
    "            weights.append(1)\n",
    "        cur_node = cur_node.next\n",
    "    for i in range(len(weights)):\n",
    "        G.add_edges_from(add_list[1][:], weight = weights[i])\n",
    "pos = nx.spring_layout(G)\n",
    "nx.draw(G, pos)\n",
    "pylab.show()"
   ]
  },
  {
   "cell_type": "code",
   "execution_count": null,
   "id": "28592736-ff74-4807-9ded-57038efd7005",
   "metadata": {},
   "outputs": [],
   "source": []
  },
  {
   "cell_type": "code",
   "execution_count": null,
   "id": "7a6dc0a3-d2bd-48df-b24f-d05ef0ad1afe",
   "metadata": {},
   "outputs": [],
   "source": []
  }
 ],
 "metadata": {
  "kernelspec": {
   "display_name": "Python 3",
   "language": "python",
   "name": "python3"
  },
  "language_info": {
   "codemirror_mode": {
    "name": "ipython",
    "version": 3
   },
   "file_extension": ".py",
   "mimetype": "text/x-python",
   "name": "python",
   "nbconvert_exporter": "python",
   "pygments_lexer": "ipython3",
   "version": "3.8.8"
  }
 },
 "nbformat": 4,
 "nbformat_minor": 5
}
